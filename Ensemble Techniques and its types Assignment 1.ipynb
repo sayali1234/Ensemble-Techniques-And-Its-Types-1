{
 "cells": [
  {
   "cell_type": "markdown",
   "id": "c59143c6-924f-4ef0-90e4-4eff2c1cec4e",
   "metadata": {},
   "source": [
    "Q1) What is an ensemble technique in machine learning?"
   ]
  },
  {
   "cell_type": "code",
   "execution_count": null,
   "id": "156c94e6-523c-4700-ab2d-1b487294b0a7",
   "metadata": {},
   "outputs": [],
   "source": [
    "An ensemble technique in machine learning is a method that combines the predictions of multiple individual models to improve\n",
    "the accuracy and robustness of the overall prediction. Ensemble methods are often used when a single model may not be\n",
    "sufficient to accurately capture the complexity of the data or when multiple models with different strengths and weaknesses are\n",
    "available.\n",
    "\n",
    "There are several types of ensemble methods, including:\n",
    "    \n",
    "1.Bagging: This method involves training multiple instances of the same model on different subsets of the training data and\n",
    "then combining the predictions of each model. Bagging can improve model stability and reduce overfitting.\n",
    "\n",
    "2.Boosting: This method involves iteratively training a sequence of weak models, with each model focusing on the examples that\n",
    "were misclassified by the previous model. The predictions of each model are combined to produce the final prediction.\n",
    "\n",
    "3.Stacking: This method involves training multiple different models and using their predictions as input to a higher-level \n",
    "model that learns how to combine them optimally. Stacking can be used to leverage the strengths of different types of models.\n",
    "\n",
    "Ensemble methods have been shown to be very effective in many applications of machine learning, particularly in areas such as \n",
    "computer vision, natural language processing, and speech recognition."
   ]
  },
  {
   "cell_type": "markdown",
   "id": "3a213505-933b-4bad-ac6c-3423a5895635",
   "metadata": {},
   "source": [
    "Q2) Why are ensemble techniques used in machine learning?"
   ]
  },
  {
   "cell_type": "code",
   "execution_count": null,
   "id": "e1867e5b-03e6-49e8-a386-611abf973beb",
   "metadata": {},
   "outputs": [],
   "source": [
    "Ensemble techniques are used in machine learning for several reasons:\n",
    "    \n",
    "1.Improved prediction accuracy: Ensemble methods can often achieve higher accuracy than individual models by combining the\n",
    "predictions of multiple models. This is because different models may be better suited to different aspects of the data, and \n",
    "combining their predictions can lead to a more accurate overall prediction.\n",
    "\n",
    "2.Robustness: Ensemble methods can help to reduce the impact of noisy or incorrect data by averaging out errors across multiple\n",
    "models. This can improve the robustness of the overall prediction.\n",
    "\n",
    "3.Reduced overfitting: Ensemble methods can help to reduce overfitting by combining the predictions of multiple models trained\n",
    "on different subsets of the data. This can improve generalization performance on new data.\n",
    "\n",
    "4.Improved model stability: Ensemble methods can help to improve the stability of models by reducing the impact of small \n",
    "changes in the training data or model parameters.\n",
    "\n",
    "Overall, ensemble methods are a powerful tool in machine learning that can help to improve prediction accuracy, robustness, and\n",
    "stability. They are widely used in many applications, including computer vision, natural language processing, and speech \n",
    "recognition."
   ]
  },
  {
   "cell_type": "markdown",
   "id": "58e33b9c-51f2-4ce6-b818-e33e77bb9cac",
   "metadata": {},
   "source": [
    "Q3) What is bagging?"
   ]
  },
  {
   "cell_type": "code",
   "execution_count": null,
   "id": "290a92c6-ab6c-43b0-a9da-37f5a5ba5fd0",
   "metadata": {},
   "outputs": [],
   "source": [
    "Bagging (short for Bootstrap Aggregating) is an ensemble technique in machine learning that involves training multiple \n",
    "instances of the same model on different subsets of the training data and then combining their predictions to make a final \n",
    "prediction.\n",
    "\n",
    "The basic idea behind bagging is to reduce the variance of a single model by averaging out the predictions of multiple models \n",
    "trained on different subsets of the data. Each model in the ensemble is trained on a randomly sampled subset of the training\n",
    "data, with replacement. This means that some examples may appear multiple times in the same subset, while others may not appear\n",
    "at all. By sampling with replacement, we can create multiple different subsets of the data that are representative of the \n",
    "overall training set.\n",
    "\n",
    "Once the models have been trained on their respective subsets of the training data, they are used to make predictions on the \n",
    "test data. The final prediction is then obtained by aggregating the predictions of all the models, usually by taking the\n",
    "average.\n",
    "\n",
    "Bagging can be used with any type of model, including decision trees, neural networks, and support vector machines. It is\n",
    "particularly effective with models that are prone to overfitting, as it can help to reduce the variance of the model and \n",
    "improve its generalization performance."
   ]
  },
  {
   "cell_type": "markdown",
   "id": "7a47a610-b33e-4d52-9b57-dfd9680fa72f",
   "metadata": {},
   "source": [
    "Q4) What is boosting?"
   ]
  },
  {
   "cell_type": "code",
   "execution_count": null,
   "id": "62afd784-d046-41a0-91b7-6f5779a27a77",
   "metadata": {},
   "outputs": [],
   "source": [
    "Boosting is an ensemble technique in machine learning that involves iteratively training a sequence of weak models, with each\n",
    "model focusing on the examples that were misclassified by the previous model. The predictions of each model are then combined \n",
    "to produce the final prediction.\n",
    "\n",
    "The basic idea behind boosting is to iteratively improve the overall prediction by focusing on the examples that are difficult\n",
    "to classify. The weak models in the ensemble are typically simple models, such as decision trees, that are trained on a subset\n",
    "of the training data. The models are then combined using a weighted sum, where the weights are adjusted at each iteration to\n",
    "give more weight to the models that perform well on the training data.\n",
    "\n",
    "Boosting can be thought of as a form of adaptive weighting, where the weights of the examples in the training data are adjusted\n",
    "based on their difficulty to classify. Examples that are difficult to classify are given higher weights, while examples that \n",
    "are easy to classify are given lower weights. This allows the weak models to focus on the examples that are most important for\n",
    "improving the overall prediction.\n",
    "\n",
    "Boosting has been shown to be very effective in many applications of machine learning, particularly in areas such as computer\n",
    "vision, natural language processing, and speech recognition. It is often used with decision trees, but can also be used with\n",
    "other types of models, such as neural networks and support vector machines."
   ]
  },
  {
   "cell_type": "markdown",
   "id": "633473ba-7dfa-40fa-859b-1608b5c20f16",
   "metadata": {},
   "source": [
    "Q5) What are the benefits of using ensemble techniques?"
   ]
  },
  {
   "cell_type": "code",
   "execution_count": null,
   "id": "b775319d-67ab-4786-813d-2a727b3241be",
   "metadata": {},
   "outputs": [],
   "source": [
    "Ensemble techniques offer several benefits in machine learning:\n",
    "    \n",
    "1.Improved accuracy: Ensemble techniques can improve the accuracy of predictions by combining the predictions of multiple\n",
    "models. This is because different models may be better suited to different aspects of the data, and combining their predictions\n",
    "can lead to a more accurate overall prediction.\n",
    "\n",
    "2.Reduced overfitting: Ensemble techniques can help to reduce overfitting by combining the predictions of multiple models\n",
    "trained on different subsets of the data. This can improve generalization performance on new data.\n",
    "\n",
    "3.Improved robustness: Ensemble techniques can help to reduce the impact of noisy or incorrect data by averaging out errors\n",
    "across multiple models. This can improve the robustness of the overall prediction.\n",
    "\n",
    "4.Increased stability: Ensemble techniques can help to improve the stability of models by reducing the impact of small changes\n",
    "in the training data or model parameters.\n",
    "\n",
    "5.Can leverage different strengths of models: Ensemble techniques can combine the strengths of different models that are good \n",
    "at different aspects of the data and combine their predictions to get a more accurate overall prediction.\n",
    "\n",
    "Overall, ensemble techniques are a powerful tool in machine learning that can improve prediction accuracy, robustness, \n",
    "stability, and generalization performance. They are widely used in many applications, including computer vision, natural \n",
    "language processing, and speech recognition."
   ]
  },
  {
   "cell_type": "markdown",
   "id": "2901315a-2cfd-4eb9-bea2-a8cdb04d585f",
   "metadata": {},
   "source": [
    "Q6) Are ensemble techniques always better than individual models?"
   ]
  },
  {
   "cell_type": "code",
   "execution_count": null,
   "id": "458e3324-bdb8-453a-9c3c-5a3fe6684202",
   "metadata": {},
   "outputs": [],
   "source": [
    "Ensemble techniques are not always better than individual models. While ensemble techniques can improve the accuracy,\n",
    "robustness, and generalization performance of models, there are cases where they may not be effective.\n",
    "\n",
    "For example, if the individual models in the ensemble are very similar to each other, then the ensemble may not provide much \n",
    "benefit over a single model. Additionally, if the individual models are very complex and overfit the training data, then the\n",
    "ensemble may also overfit the data and not generalize well to new data.\n",
    "\n",
    "Furthermore, ensemble techniques can be computationally expensive and may require more resources to train and deploy compared \n",
    "to individual models.\n",
    "\n",
    "Therefore, it is important to carefully evaluate the effectiveness of ensemble techniques in a given application and compare \n",
    "their performance against individual models before deciding to use them. It is also important to consider the computational \n",
    "cost and feasibility of implementing ensemble techniques in the given application."
   ]
  },
  {
   "cell_type": "markdown",
   "id": "ea125771-29e4-4014-ad69-fd7f5196f8d3",
   "metadata": {},
   "source": [
    "Q7) How is the confidence interval calculated using bootstrap?"
   ]
  },
  {
   "cell_type": "code",
   "execution_count": null,
   "id": "15914e9d-0c02-45f5-b448-dee9c879d5a1",
   "metadata": {},
   "outputs": [],
   "source": [
    "The confidence interval can be calculated using the bootstrap method in the following way:\n",
    "    \n",
    "1.Randomly sample the original dataset with replacement to create a new dataset of the same size as the original dataset. This\n",
    "is called a bootstrap sample.\n",
    "\n",
    "2.Compute the statistic of interest, such as the mean or median, on the bootstrap sample.\n",
    "\n",
    "3.Repeat steps 1 and 2 many times, typically several thousand times, to generate a large number of bootstrap samples and their\n",
    "corresponding statistics.\n",
    "\n",
    "4.Calculate the standard error of the statistic using the bootstrap samples. This is an estimate of the variability of the\n",
    "statistic.\n",
    "\n",
    "5.Use the standard error to calculate the confidence interval using the desired level of confidence and a normal distribution\n",
    "or t-distribution, depending on the sample size and assumptions.\n",
    "\n",
    "For example, suppose we want to calculate the 95% confidence interval for the mean of a dataset. We can use the bootstrap \n",
    "method to estimate the standard error of the mean and then calculate the confidence interval using a normal distribution. The \n",
    "steps would be as follows:\n",
    "1.Randomly sample the original dataset with replacement to create a new dataset of the same size as the original dataset. \n",
    "Repeat this process many times, such as 10,000 times, to create a large number of bootstrap samples.\n",
    "\n",
    "2.Calculate the mean of each bootstrap sample.\n",
    "\n",
    "3.Compute the standard error of the mean using the bootstrap samples. This is typically calculated as the standard deviation of\n",
    "the bootstrap sample means.\n",
    "\n",
    "4.Calculate the lower and upper bounds of the confidence interval using the standard error and a normal distribution. For\n",
    "example, if the standard error is 0.1 and we want a 95% confidence interval, we would use a z-score of 1.96 \n",
    "(the z-score corresponding to the 97.5th percentile of a standard normal distribution) and calculate the confidence interval\n",
    "as: mean +/- zstandard error = mean +/- 1.96*std_error\n",
    "\n",
    "5.The resulting confidence interval would be the range of values from the lower bound to the upper bound."
   ]
  },
  {
   "cell_type": "markdown",
   "id": "9c18fd69-316c-4681-bf50-2c8119d3d7c9",
   "metadata": {},
   "source": [
    "Q8) How does bootstrap work and What are the steps involved in bootstrap?"
   ]
  },
  {
   "cell_type": "code",
   "execution_count": null,
   "id": "830b8215-2133-474a-b210-4009e648b7aa",
   "metadata": {},
   "outputs": [],
   "source": [
    "Bootstrap is a statistical method for estimating the uncertainty of a statistic or model parameter by resampling from the \n",
    "original data. The steps involved in the bootstrap method are as follows:\n",
    "    \n",
    "1.Collect the original dataset: The first step is to collect the original dataset of size N.\n",
    "\n",
    "2.Sample from the original dataset with replacement: From the original dataset, we randomly sample N observations with\n",
    "replacement to create a new dataset of the same size N as the original dataset. This is called a bootstrap sample.\n",
    "\n",
    "3.Compute the statistic of interest: We compute the statistic of interest, such as the mean, median, variance, or any other\n",
    "parameter we want to estimate, on the bootstrap sample.\n",
    "\n",
    "4.Repeat step 2 and 3 many times: We repeat steps 2 and 3 many times, typically 1,000 or more, to create many bootstrap samples\n",
    "and their corresponding statistics.\n",
    "\n",
    "5.Compute the standard error of the statistic: We compute the standard error of the statistic using the bootstrap samples. This\n",
    "is an estimate of the variability of the statistic.\n",
    "\n",
    "6.Construct the confidence interval: We use the standard error to construct a confidence interval around the estimate of the \n",
    "statistic. For example, we can construct a 95% confidence interval by taking the middle 95% of the bootstrap distribution of \n",
    "the statistic.\n",
    "\n",
    "The bootstrap method allows us to estimate the variability of a statistic or parameter without making assumptions about the \n",
    "underlying distribution of the data or the model. It can be used for a wide range of statistical applications, such as\n",
    "hypothesis testing, regression analysis, and machine learning. The bootstrap method is particularly useful when the sample size\n",
    "is small, or the underlying distribution is unknown or nonparametric."
   ]
  },
  {
   "cell_type": "markdown",
   "id": "30bf29b0-22ca-4eb3-bbcd-f53a02c860cb",
   "metadata": {},
   "source": [
    "Q9) A researcher wants to estimate the mean height of a population of trees. They measure the height of a\n",
    "sample of 50 trees and obtain a mean height of 15 meters and a standard deviation of 2 meters. Use\n",
    "bootstrap to estimate the 95% confidence interval for the population mean height."
   ]
  },
  {
   "cell_type": "code",
   "execution_count": null,
   "id": "7425ced2-2dff-4876-81a2-f3d36ad654e2",
   "metadata": {},
   "outputs": [],
   "source": [
    "Below is code in python to calculate 95% interval for above bootstrap"
   ]
  },
  {
   "cell_type": "code",
   "execution_count": 1,
   "id": "dface295-909d-4777-a779-c6f77ed1a09e",
   "metadata": {},
   "outputs": [
    {
     "name": "stdout",
     "output_type": "stream",
     "text": [
      "Sample mean height for 50 Trees is 15 and Sample Standard Deviation is 2\n",
      "\n",
      "============================================================================\n",
      "\n",
      "T-Statistic with 95.0% condifence interval for dof 49 : 2.0096\n",
      "Standard Error : 0.2828\n",
      "Margin of error : 0.5684\n",
      "\n",
      "Estimated Population mean with 95% confidence interval is (14.43 , 15.57)\n"
     ]
    }
   ],
   "source": [
    "# Given Data \n",
    "samples = 50\n",
    "sample_mean = 15\n",
    "sample_std = 2\n",
    "confidence_level = 0.95\n",
    "\n",
    "# Calculate the t value for desired level of confidence\n",
    "import scipy.stats as stats\n",
    "alpha = 1 - confidence_level\n",
    "dof = samples-1\n",
    "t_value = stats.t.ppf(1 - alpha/2, dof)\n",
    "\n",
    "# calculate the standard error and margin of error\n",
    "import math\n",
    "std_error = sample_std / math.sqrt(samples)\n",
    "margin_of_error = t_value * std_error\n",
    "\n",
    "# calculate the confidence interval bounds\n",
    "lower_bound = sample_mean - margin_of_error\n",
    "upper_bound = sample_mean + margin_of_error\n",
    "\n",
    "# print 95% confidence interval\n",
    "print(f'Sample mean height for {samples} Trees is {sample_mean} and Sample Standard Deviation is {sample_std}')\n",
    "print('\\n============================================================================\\n')\n",
    "print(f'T-Statistic with {confidence_level*100}% condifence interval for dof {dof} : {t_value:.4f}')\n",
    "print(f'Standard Error : {std_error:.4f}')\n",
    "print(f'Margin of error : {margin_of_error:.4f}')\n",
    "print(f'\\nEstimated Population mean with 95% confidence interval is ({lower_bound:.2f} , {upper_bound:.2f})')"
   ]
  },
  {
   "cell_type": "code",
   "execution_count": null,
   "id": "b8ce7d5c-cf8b-4c27-bbb9-93dce9893d4a",
   "metadata": {},
   "outputs": [],
   "source": []
  }
 ],
 "metadata": {
  "kernelspec": {
   "display_name": "Python 3 (ipykernel)",
   "language": "python",
   "name": "python3"
  },
  "language_info": {
   "codemirror_mode": {
    "name": "ipython",
    "version": 3
   },
   "file_extension": ".py",
   "mimetype": "text/x-python",
   "name": "python",
   "nbconvert_exporter": "python",
   "pygments_lexer": "ipython3",
   "version": "3.10.8"
  }
 },
 "nbformat": 4,
 "nbformat_minor": 5
}
